{
 "cells": [
  {
   "cell_type": "code",
   "execution_count": 1,
   "id": "0314bf1d",
   "metadata": {},
   "outputs": [
    {
     "name": "stdout",
     "output_type": "stream",
     "text": [
      "train, validaion, test, unlabeled: 1100 10000 10831 108900\n",
      "\n",
      "=====Epoch 1\n",
      "\n",
      "Training...\n",
      "100%|█████████████████████████████████████████████| 8/8 [00:01<00:00,  6.01it/s]\n",
      "\n",
      "\n",
      "Evaluating...\n",
      "100%|███████████████████████████████████████████| 79/79 [00:09<00:00,  7.96it/s]\n",
      "\n",
      "\n",
      "Testing...\n",
      "100%|███████████████████████████████████████████| 85/85 [00:08<00:00,  9.97it/s]\n",
      "\n",
      "{'Train': 28.02973997592926, 'Validation': 7.003389835357666, 'Test': 6.9331955909729}\n",
      "Best validation MAE so far: 7.003389835357666\n",
      "Test MAE when got best validation result: 6.9331955909729\n",
      "100%|█████████████████████████████████████████| 851/851 [01:26<00:00,  9.89it/s]\n",
      "\n",
      "=====Epoch 1\n",
      "\n",
      "Training...\n",
      "100%|█████████████████████████████████████████| 859/859 [02:26<00:00,  5.88it/s]\n",
      "\n",
      "\n",
      "Evaluating...\n",
      "100%|███████████████████████████████████████████| 79/79 [00:05<00:00, 15.45it/s]\n",
      "\n",
      "\n",
      "Testing...\n",
      "100%|███████████████████████████████████████████| 85/85 [00:05<00:00, 15.32it/s]\n",
      "\n",
      "{'Train': 15.067649896102173, 'Validation': 1.6133029460906982, 'Test': 1.611984372138977}\n",
      "Best validation MAE so far: 1.6133029460906982\n",
      "Test MAE when got best validation result: 1.611984372138977\n"
     ]
    }
   ],
   "source": [
    "!python train.py --label homo \\\n",
    "                    --model dimenet \\\n",
    "                    --wandb False \\\n",
    "                    --pseudo_label True \\\n",
    "                    --setting low_data \\\n",
    "                    --training_fraction 0.01 \\\n",
    "                    --iteration 1 \\\n",
    "                    --initial_train_epoch 1 \\\n",
    "                    --epoch 1"
   ]
  },
  {
   "cell_type": "code",
   "execution_count": null,
   "id": "dddb29c6",
   "metadata": {},
   "outputs": [],
   "source": []
  }
 ],
 "metadata": {
  "kernelspec": {
   "display_name": "Python 3 (ipykernel)",
   "language": "python",
   "name": "python3"
  },
  "language_info": {
   "codemirror_mode": {
    "name": "ipython",
    "version": 3
   },
   "file_extension": ".py",
   "mimetype": "text/x-python",
   "name": "python",
   "nbconvert_exporter": "python",
   "pygments_lexer": "ipython3",
   "version": "3.7.10"
  }
 },
 "nbformat": 4,
 "nbformat_minor": 5
}
