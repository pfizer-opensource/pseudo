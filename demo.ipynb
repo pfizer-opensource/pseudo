{
 "cells": [
  {
   "cell_type": "code",
   "execution_count": 1,
   "id": "0314bf1d",
   "metadata": {},
   "outputs": [
    {
     "name": "stdout",
     "output_type": "stream",
     "text": [
      "train, validaion, test, unlabeled: 1100 10000 10831 108900\n",
      "\n",
      "=====Epoch 1\n",
      "\n",
      "Training...\n",
      "100%|█████████████████████████████████████████████| 8/8 [00:09<00:00,  1.15s/it]\n",
      "\n",
      "\n",
      "Evaluating...\n",
      "100%|███████████████████████████████████████████| 79/79 [00:07<00:00,  9.89it/s]\n",
      "\n",
      "\n",
      "Testing...\n",
      "100%|███████████████████████████████████████████| 85/85 [00:08<00:00, 10.15it/s]\n",
      "\n",
      "{'Train': 35.45586496591568, 'Validation': 6.375275135040283, 'Test': 6.310922145843506}\n",
      "Best validation MAE in current episode: 6.375275135040283\n",
      "Test MAE when got best validation result in current episode: 6.310922145843506\n",
      "Best validation MAE in all episode: 6.375275135040283\n",
      "Best testing MAE when got best validation result in all episodes: 6.310922145843506\n",
      "100%|█████████████████████████████████████████| 851/851 [01:26<00:00,  9.87it/s]\n",
      "\n",
      "=====Epoch 1\n",
      "\n",
      "Training...\n",
      "100%|█████████████████████████████████████████| 859/859 [02:26<00:00,  5.86it/s]\n",
      "\n",
      "\n",
      "Evaluating...\n",
      "100%|███████████████████████████████████████████| 79/79 [00:05<00:00, 15.45it/s]\n",
      "\n",
      "\n",
      "Testing...\n",
      "100%|███████████████████████████████████████████| 85/85 [00:05<00:00, 15.47it/s]\n",
      "\n",
      "{'Train': 5.025088667195181, 'Validation': 1.0055369138717651, 'Test': 1.0032907724380493}\n",
      "Best validation MAE in current episode: 1.0055369138717651\n",
      "Test MAE when got best validation result in current episode: 1.0032907724380493\n",
      "Best validation MAE in all episode: 1.0055369138717651\n",
      "Best testing MAE when got best validation result in all episodes: 1.0032907724380493\n"
     ]
    }
   ],
   "source": [
    "!python train.py --label homo \\\n",
    "                    --model dimenet \\\n",
    "                    --wandb False \\\n",
    "                    --pseudo_label True \\\n",
    "                    --setting low_data \\\n",
    "                    --training_fraction 0.01 \\\n",
    "                    --iteration 1 \\\n",
    "                    --initial_train_epoch 1 \\\n",
    "                    --epoch 1"
   ]
  },
  {
   "cell_type": "code",
   "execution_count": null,
   "id": "dddb29c6",
   "metadata": {},
   "outputs": [],
   "source": []
  }
 ],
 "metadata": {
  "kernelspec": {
   "display_name": "Python 3 (ipykernel)",
   "language": "python",
   "name": "python3"
  },
  "language_info": {
   "codemirror_mode": {
    "name": "ipython",
    "version": 3
   },
   "file_extension": ".py",
   "mimetype": "text/x-python",
   "name": "python",
   "nbconvert_exporter": "python",
   "pygments_lexer": "ipython3",
   "version": "3.7.10"
  }
 },
 "nbformat": 4,
 "nbformat_minor": 5
}
